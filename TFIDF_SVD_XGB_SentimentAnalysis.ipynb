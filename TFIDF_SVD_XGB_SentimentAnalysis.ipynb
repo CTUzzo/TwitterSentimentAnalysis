{
  "metadata": {
    "kernelspec": {
      "language": "python",
      "display_name": "Python 3",
      "name": "python3"
    },
    "language_info": {
      "name": "python",
      "version": "3.10.12",
      "mimetype": "text/x-python",
      "codemirror_mode": {
        "name": "ipython",
        "version": 3
      },
      "pygments_lexer": "ipython3",
      "nbconvert_exporter": "python",
      "file_extension": ".py"
    },
    "kaggle": {
      "accelerator": "none",
      "dataSources": [
        {
          "sourceId": 2510329,
          "sourceType": "datasetVersion",
          "datasetId": 1520310
        }
      ],
      "dockerImageVersionId": 30822,
      "isInternetEnabled": true,
      "language": "python",
      "sourceType": "notebook",
      "isGpuEnabled": false
    },
    "colab": {
      "provenance": []
    }
  },
  "nbformat_minor": 0,
  "nbformat": 4,
  "cells": [
    {
      "cell_type": "code",
      "source": [
        "import numpy as np\n",
        "import pandas as pd\n",
        "from sklearn.feature_extraction.text import TfidfVectorizer\n",
        "from sklearn.decomposition import TruncatedSVD\n",
        "from xgboost import XGBClassifier\n",
        "from sklearn.metrics import confusion_matrix, accuracy_score, log_loss\n",
        "import re\n",
        "import nltk\n",
        "nltk.download('stopwords')\n",
        "from nltk.corpus import stopwords"
      ],
      "metadata": {
        "trusted": true,
        "execution": {
          "iopub.status.busy": "2025-01-16T19:35:12.236306Z",
          "iopub.execute_input": "2025-01-16T19:35:12.236928Z",
          "iopub.status.idle": "2025-01-16T19:35:14.112021Z",
          "shell.execute_reply.started": "2025-01-16T19:35:12.236875Z",
          "shell.execute_reply": "2025-01-16T19:35:14.110921Z"
        },
        "id": "_fk_JATXcDB5",
        "outputId": "8d0f74e0-32e6-4879-beaf-94739e81c4d2"
      },
      "outputs": [
        {
          "name": "stdout",
          "text": "[nltk_data] Downloading package stopwords to /usr/share/nltk_data...\n[nltk_data]   Package stopwords is already up-to-date!\n",
          "output_type": "stream"
        }
      ],
      "execution_count": null
    },
    {
      "cell_type": "code",
      "source": [
        "train = pd.read_csv(\"/twitter-entity-sentiment-analysis/twitter_training.csv\",\n",
        "                   names = ['number',\n",
        "                            'source',\n",
        "                            'sentiment',\n",
        "                            'text'])\n",
        "val = pd.read_csv(\"/twitter-entity-sentiment-analysis/twitter_validation.csv\",\n",
        "                   names = ['number',\n",
        "                            'source',\n",
        "                            'sentiment',\n",
        "                            'text'])\n"
      ],
      "metadata": {
        "trusted": true,
        "execution": {
          "iopub.status.busy": "2025-01-16T19:35:14.113204Z",
          "iopub.execute_input": "2025-01-16T19:35:14.113667Z",
          "iopub.status.idle": "2025-01-16T19:35:14.446775Z",
          "shell.execute_reply.started": "2025-01-16T19:35:14.113638Z",
          "shell.execute_reply": "2025-01-16T19:35:14.445654Z"
        },
        "id": "xxi4QYVacDB6"
      },
      "outputs": [],
      "execution_count": null
    },
    {
      "cell_type": "code",
      "source": [
        "classify = lambda s: 1 if s == \"Positive\" else\\\n",
        "                     0 if s == \"Negative\" else\\\n",
        "                     2 if s == \"Neutral\" else 3\n",
        "\n",
        "y_val = val[\"sentiment\"].apply(classify)\n",
        "\n",
        "y_train = train[\"sentiment\"].apply(classify)"
      ],
      "metadata": {
        "trusted": true,
        "execution": {
          "iopub.status.busy": "2025-01-16T19:35:14.840117Z",
          "iopub.execute_input": "2025-01-16T19:35:14.840533Z",
          "iopub.status.idle": "2025-01-16T19:35:14.892392Z",
          "shell.execute_reply.started": "2025-01-16T19:35:14.840498Z",
          "shell.execute_reply": "2025-01-16T19:35:14.891372Z"
        },
        "id": "VxiDyGWdcDB7"
      },
      "outputs": [],
      "execution_count": null
    },
    {
      "cell_type": "code",
      "source": [
        "tfidf = TfidfVectorizer(max_features=900, sublinear_tf = True)\n",
        "\n",
        "X_train = tfidf.fit_transform(train[\"text\"].values.astype('U'))\n",
        "X_val = tfidf.transform(val[\"text\"].values.astype('U'))"
      ],
      "metadata": {
        "trusted": true,
        "execution": {
          "iopub.status.busy": "2025-01-16T19:35:16.003839Z",
          "iopub.execute_input": "2025-01-16T19:35:16.004158Z",
          "iopub.status.idle": "2025-01-16T19:35:17.975694Z",
          "shell.execute_reply.started": "2025-01-16T19:35:16.004133Z",
          "shell.execute_reply": "2025-01-16T19:35:17.974657Z"
        },
        "id": "SI9dDpP_cDB7"
      },
      "outputs": [],
      "execution_count": null
    },
    {
      "cell_type": "markdown",
      "source": [
        "I found that removing stopwords, punctuation, hashtags, and urls had a negative overall effect on model performance, so I have ommitted this step. Instead, I rely on T-SVD to reduce the dimenstionality of the sparse matrix created by the TFIDF step."
      ],
      "metadata": {
        "id": "mpxNFLHRcDB8"
      }
    },
    {
      "cell_type": "code",
      "source": [
        "## apply dimensionality reduction - TSVD is useful for applying to sparse matrices\n",
        "\n",
        "tsvd = TruncatedSVD(n_components = 280)\n",
        "\n",
        "X_train_svd = tsvd.fit_transform(X_train)\n",
        "X_val_svd = tsvd.transform(X_val)"
      ],
      "metadata": {
        "trusted": true,
        "execution": {
          "iopub.status.busy": "2025-01-16T19:35:21.753734Z",
          "iopub.execute_input": "2025-01-16T19:35:21.754048Z",
          "iopub.status.idle": "2025-01-16T19:35:31.942299Z",
          "shell.execute_reply.started": "2025-01-16T19:35:21.754024Z",
          "shell.execute_reply": "2025-01-16T19:35:31.941287Z"
        },
        "id": "TH6AXTxKcDB9"
      },
      "outputs": [],
      "execution_count": null
    },
    {
      "cell_type": "code",
      "source": [
        "model = XGBClassifier()\n",
        "\n",
        "model.fit(X_train_svd, y_train)"
      ],
      "metadata": {
        "trusted": true,
        "execution": {
          "iopub.status.busy": "2025-01-16T19:35:31.943511Z",
          "iopub.execute_input": "2025-01-16T19:35:31.943806Z",
          "iopub.status.idle": "2025-01-16T19:36:13.269687Z",
          "shell.execute_reply.started": "2025-01-16T19:35:31.943777Z",
          "shell.execute_reply": "2025-01-16T19:36:13.268371Z"
        },
        "id": "bDO27Q_tcDB-",
        "outputId": "6fc75d99-4253-49f2-c9e2-4e3d96d4b7b4"
      },
      "outputs": [
        {
          "execution_count": 7,
          "output_type": "execute_result",
          "data": {
            "text/plain": "XGBClassifier(base_score=None, booster=None, callbacks=None,\n              colsample_bylevel=None, colsample_bynode=None,\n              colsample_bytree=None, device=None, early_stopping_rounds=None,\n              enable_categorical=False, eval_metric=None, feature_types=None,\n              gamma=None, grow_policy=None, importance_type=None,\n              interaction_constraints=None, learning_rate=None, max_bin=None,\n              max_cat_threshold=None, max_cat_to_onehot=None,\n              max_delta_step=None, max_depth=None, max_leaves=None,\n              min_child_weight=None, missing=nan, monotone_constraints=None,\n              multi_strategy=None, n_estimators=None, n_jobs=None,\n              num_parallel_tree=None, objective='multi:softprob', ...)",
            "text/html": "<style>#sk-container-id-1 {color: black;background-color: white;}#sk-container-id-1 pre{padding: 0;}#sk-container-id-1 div.sk-toggleable {background-color: white;}#sk-container-id-1 label.sk-toggleable__label {cursor: pointer;display: block;width: 100%;margin-bottom: 0;padding: 0.3em;box-sizing: border-box;text-align: center;}#sk-container-id-1 label.sk-toggleable__label-arrow:before {content: \"▸\";float: left;margin-right: 0.25em;color: #696969;}#sk-container-id-1 label.sk-toggleable__label-arrow:hover:before {color: black;}#sk-container-id-1 div.sk-estimator:hover label.sk-toggleable__label-arrow:before {color: black;}#sk-container-id-1 div.sk-toggleable__content {max-height: 0;max-width: 0;overflow: hidden;text-align: left;background-color: #f0f8ff;}#sk-container-id-1 div.sk-toggleable__content pre {margin: 0.2em;color: black;border-radius: 0.25em;background-color: #f0f8ff;}#sk-container-id-1 input.sk-toggleable__control:checked~div.sk-toggleable__content {max-height: 200px;max-width: 100%;overflow: auto;}#sk-container-id-1 input.sk-toggleable__control:checked~label.sk-toggleable__label-arrow:before {content: \"▾\";}#sk-container-id-1 div.sk-estimator input.sk-toggleable__control:checked~label.sk-toggleable__label {background-color: #d4ebff;}#sk-container-id-1 div.sk-label input.sk-toggleable__control:checked~label.sk-toggleable__label {background-color: #d4ebff;}#sk-container-id-1 input.sk-hidden--visually {border: 0;clip: rect(1px 1px 1px 1px);clip: rect(1px, 1px, 1px, 1px);height: 1px;margin: -1px;overflow: hidden;padding: 0;position: absolute;width: 1px;}#sk-container-id-1 div.sk-estimator {font-family: monospace;background-color: #f0f8ff;border: 1px dotted black;border-radius: 0.25em;box-sizing: border-box;margin-bottom: 0.5em;}#sk-container-id-1 div.sk-estimator:hover {background-color: #d4ebff;}#sk-container-id-1 div.sk-parallel-item::after {content: \"\";width: 100%;border-bottom: 1px solid gray;flex-grow: 1;}#sk-container-id-1 div.sk-label:hover label.sk-toggleable__label {background-color: #d4ebff;}#sk-container-id-1 div.sk-serial::before {content: \"\";position: absolute;border-left: 1px solid gray;box-sizing: border-box;top: 0;bottom: 0;left: 50%;z-index: 0;}#sk-container-id-1 div.sk-serial {display: flex;flex-direction: column;align-items: center;background-color: white;padding-right: 0.2em;padding-left: 0.2em;position: relative;}#sk-container-id-1 div.sk-item {position: relative;z-index: 1;}#sk-container-id-1 div.sk-parallel {display: flex;align-items: stretch;justify-content: center;background-color: white;position: relative;}#sk-container-id-1 div.sk-item::before, #sk-container-id-1 div.sk-parallel-item::before {content: \"\";position: absolute;border-left: 1px solid gray;box-sizing: border-box;top: 0;bottom: 0;left: 50%;z-index: -1;}#sk-container-id-1 div.sk-parallel-item {display: flex;flex-direction: column;z-index: 1;position: relative;background-color: white;}#sk-container-id-1 div.sk-parallel-item:first-child::after {align-self: flex-end;width: 50%;}#sk-container-id-1 div.sk-parallel-item:last-child::after {align-self: flex-start;width: 50%;}#sk-container-id-1 div.sk-parallel-item:only-child::after {width: 0;}#sk-container-id-1 div.sk-dashed-wrapped {border: 1px dashed gray;margin: 0 0.4em 0.5em 0.4em;box-sizing: border-box;padding-bottom: 0.4em;background-color: white;}#sk-container-id-1 div.sk-label label {font-family: monospace;font-weight: bold;display: inline-block;line-height: 1.2em;}#sk-container-id-1 div.sk-label-container {text-align: center;}#sk-container-id-1 div.sk-container {/* jupyter's `normalize.less` sets `[hidden] { display: none; }` but bootstrap.min.css set `[hidden] { display: none !important; }` so we also need the `!important` here to be able to override the default hidden behavior on the sphinx rendered scikit-learn.org. See: https://github.com/scikit-learn/scikit-learn/issues/21755 */display: inline-block !important;position: relative;}#sk-container-id-1 div.sk-text-repr-fallback {display: none;}</style><div id=\"sk-container-id-1\" class=\"sk-top-container\"><div class=\"sk-text-repr-fallback\"><pre>XGBClassifier(base_score=None, booster=None, callbacks=None,\n              colsample_bylevel=None, colsample_bynode=None,\n              colsample_bytree=None, device=None, early_stopping_rounds=None,\n              enable_categorical=False, eval_metric=None, feature_types=None,\n              gamma=None, grow_policy=None, importance_type=None,\n              interaction_constraints=None, learning_rate=None, max_bin=None,\n              max_cat_threshold=None, max_cat_to_onehot=None,\n              max_delta_step=None, max_depth=None, max_leaves=None,\n              min_child_weight=None, missing=nan, monotone_constraints=None,\n              multi_strategy=None, n_estimators=None, n_jobs=None,\n              num_parallel_tree=None, objective=&#x27;multi:softprob&#x27;, ...)</pre><b>In a Jupyter environment, please rerun this cell to show the HTML representation or trust the notebook. <br />On GitHub, the HTML representation is unable to render, please try loading this page with nbviewer.org.</b></div><div class=\"sk-container\" hidden><div class=\"sk-item\"><div class=\"sk-estimator sk-toggleable\"><input class=\"sk-toggleable__control sk-hidden--visually\" id=\"sk-estimator-id-1\" type=\"checkbox\" checked><label for=\"sk-estimator-id-1\" class=\"sk-toggleable__label sk-toggleable__label-arrow\">XGBClassifier</label><div class=\"sk-toggleable__content\"><pre>XGBClassifier(base_score=None, booster=None, callbacks=None,\n              colsample_bylevel=None, colsample_bynode=None,\n              colsample_bytree=None, device=None, early_stopping_rounds=None,\n              enable_categorical=False, eval_metric=None, feature_types=None,\n              gamma=None, grow_policy=None, importance_type=None,\n              interaction_constraints=None, learning_rate=None, max_bin=None,\n              max_cat_threshold=None, max_cat_to_onehot=None,\n              max_delta_step=None, max_depth=None, max_leaves=None,\n              min_child_weight=None, missing=nan, monotone_constraints=None,\n              multi_strategy=None, n_estimators=None, n_jobs=None,\n              num_parallel_tree=None, objective=&#x27;multi:softprob&#x27;, ...)</pre></div></div></div></div></div>"
          },
          "metadata": {}
        }
      ],
      "execution_count": null
    },
    {
      "cell_type": "code",
      "source": [
        "y_pred = model.predict(X_val_svd)"
      ],
      "metadata": {
        "trusted": true,
        "execution": {
          "iopub.status.busy": "2025-01-16T19:36:13.271597Z",
          "iopub.execute_input": "2025-01-16T19:36:13.271993Z",
          "iopub.status.idle": "2025-01-16T19:36:13.284854Z",
          "shell.execute_reply.started": "2025-01-16T19:36:13.271955Z",
          "shell.execute_reply": "2025-01-16T19:36:13.284014Z"
        },
        "id": "eCSF7ZbJcDB-"
      },
      "outputs": [],
      "execution_count": null
    },
    {
      "cell_type": "code",
      "source": [
        "confusion_matrix(y_val, y_pred, normalize='true')"
      ],
      "metadata": {
        "trusted": true,
        "execution": {
          "iopub.status.busy": "2025-01-16T19:36:13.285609Z",
          "iopub.execute_input": "2025-01-16T19:36:13.285864Z",
          "iopub.status.idle": "2025-01-16T19:36:13.30796Z",
          "shell.execute_reply.started": "2025-01-16T19:36:13.28584Z",
          "shell.execute_reply": "2025-01-16T19:36:13.306994Z"
        },
        "id": "iNjzc3_vcDB-",
        "outputId": "6ff3d3bb-6a8a-4c63-9886-43d7b56fa266"
      },
      "outputs": [
        {
          "execution_count": 9,
          "output_type": "execute_result",
          "data": {
            "text/plain": "array([[0.95488722, 0.01879699, 0.02255639, 0.0037594 ],\n       [0.05054152, 0.87725632, 0.05054152, 0.02166065],\n       [0.07719298, 0.02807018, 0.88421053, 0.01052632],\n       [0.06395349, 0.06395349, 0.04069767, 0.83139535]])"
          },
          "metadata": {}
        }
      ],
      "execution_count": null
    },
    {
      "cell_type": "code",
      "source": [
        "accuracy_score(y_val, y_pred)"
      ],
      "metadata": {
        "trusted": true,
        "execution": {
          "iopub.status.busy": "2025-01-16T19:36:13.308796Z",
          "iopub.execute_input": "2025-01-16T19:36:13.309067Z",
          "iopub.status.idle": "2025-01-16T19:36:13.326377Z",
          "shell.execute_reply.started": "2025-01-16T19:36:13.309037Z",
          "shell.execute_reply": "2025-01-16T19:36:13.325385Z"
        },
        "id": "zDR9jdBdcDB-",
        "outputId": "06c00564-740c-49aa-f978-2833d40dcc43"
      },
      "outputs": [
        {
          "execution_count": 10,
          "output_type": "execute_result",
          "data": {
            "text/plain": "0.892"
          },
          "metadata": {}
        }
      ],
      "execution_count": null
    }
  ]
}